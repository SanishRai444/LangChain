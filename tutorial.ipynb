{
 "cells": [
  {
   "cell_type": "code",
   "execution_count": 2,
   "id": "0f0c419a",
   "metadata": {},
   "outputs": [],
   "source": [
    "import getpass\n",
    "import os\n",
    "\n",
    "if not os.environ.get(\"GOOGLE_API_KEY\"):\n",
    "    os.environ[\"GOOGLE_API_KEY\"]=getpass.getpass(\"Enter your API key\")\n",
    "\n",
    "from langchain.chat_models import init_chat_model\n",
    "model=init_chat_model(\"gemini-2.0-flash\",model_provider=\"google_genai\")"
   ]
  },
  {
   "cell_type": "code",
   "execution_count": 3,
   "id": "c4defefe",
   "metadata": {},
   "outputs": [
    {
     "name": "stderr",
     "output_type": "stream",
     "text": [
      "C:\\Users\\Sanish Rai\\AppData\\Local\\Temp\\ipykernel_13128\\256510264.py:11: LangChainDeprecationWarning: Please see the migration guide at: https://python.langchain.com/docs/versions/migrating_memory/\n",
      "  memory=ConversationBufferWindowMemory(memory_key=\"chat_history\",\n",
      "C:\\Users\\Sanish Rai\\AppData\\Local\\Temp\\ipykernel_13128\\256510264.py:16: LangChainDeprecationWarning: The class `LLMChain` was deprecated in LangChain 0.1.17 and will be removed in 1.0. Use :meth:`~RunnableSequence, e.g., `prompt | llm`` instead.\n",
      "  chain=LLMChain(llm=model, prompt=chat_prompt, memory=memory)\n"
     ]
    }
   ],
   "source": [
    "from langchain_core.prompts import ChatPromptTemplate, SystemMessagePromptTemplate, HumanMessagePromptTemplate, MessagesPlaceholder\n",
    "from langchain.memory import ConversationBufferWindowMemory\n",
    "from langchain.chains import LLMChain\n",
    "\n",
    "\n",
    "chat_prompt=ChatPromptTemplate.from_messages([\n",
    "    SystemMessagePromptTemplate.from_template(\"you are an movie lover.\"),\n",
    "    HumanMessagePromptTemplate.from_template(\"{question}\"),\n",
    "    MessagesPlaceholder(variable_name=\"chat_history\"),\n",
    "])\n",
    "memory=ConversationBufferWindowMemory(memory_key=\"chat_history\",\n",
    "                                      k=10,\n",
    "                                      return_messages=True)\n",
    "\n",
    "\n",
    "chain=LLMChain(llm=model, prompt=chat_prompt, memory=memory)\n",
    "\n",
    "\n",
    "\n"
   ]
  },
  {
   "cell_type": "code",
   "execution_count": 5,
   "id": "10db91ea",
   "metadata": {},
   "outputs": [
    {
     "name": "stdout",
     "output_type": "stream",
     "text": [
      "Bot: Ah, 2022! A great year for cinema, indeed. It really depends on what kind of movies you enjoy, but here are some of the films from 2022 that resonated most with audiences and critics (in no particular order):\n",
      "\n",
      "*   **Everything Everywhere All at Once:** This one was a phenomenon! A mind-bending, hilarious, and surprisingly heartfelt story about a Chinese-American woman who has to save the multiverse. Michelle Yeoh is phenomenal, and the film is just bursting with creativity.\n",
      "\n",
      "*   **The Banshees of Inisherin:** A darkly comedic and poignant film about a friendship that abruptly ends on a small Irish island. Colin Farrell and Brendan Gleeson are incredible, and the film is beautifully shot.\n",
      "\n",
      "*   **Tár:** A complex and captivating character study of a brilliant but flawed conductor, played with stunning intensity by Cate Blanchett. It's a film that stays with you long after you've seen it.\n",
      "\n",
      "*   **Top Gun: Maverick:** A crowd-pleasing action spectacle that managed to capture the nostalgia of the original while delivering thrilling aerial sequences. Tom Cruise at his most charismatic.\n",
      "\n",
      "*   **The Batman:** A dark and gritty take on the Caped Crusader, with Robert Pattinson delivering a brooding and intense performance. A visually stunning and atmospheric film.\n",
      "\n",
      "*   **Aftersun:** A deeply moving and melancholic film about a father and daughter on holiday. It's a subtle but powerful exploration of memory and loss.\n",
      "\n",
      "*   **Guillermo del Toro's Pinocchio:** A beautifully crafted stop-motion animated film that puts a dark and poignant spin on the classic tale.\n",
      "\n",
      "*   **RRR:** An over-the-top, action-packed Indian film that became a global sensation. It's a visual feast with incredible dance numbers and a compelling story of friendship and rebellion.\n",
      "\n",
      "*   **Elvis:** Baz Luhrmann's signature style is on full display in this energetic and visually dazzling biopic of Elvis Presley. Austin Butler's performance is truly transformative.\n",
      "\n",
      "To give you a more tailored list, tell me what kind of movies you generally enjoy! Do you prefer:\n",
      "\n",
      "*   **Action & Adventure?**\n",
      "*   **Drama?**\n",
      "*   **Comedy?**\n",
      "*   **Sci-Fi & Fantasy?**\n",
      "*   **Horror?**\n",
      "*   **Animation?**\n",
      "*   **Documentaries?**\n",
      "\n",
      "Once I know your preferences, I can give you some more specific recommendations!\n"
     ]
    }
   ],
   "source": [
    "user_input = input(\"You: \")\n",
    "response = chain.run(question=user_input)\n",
    "print(\"Bot:\", response)\n"
   ]
  },
  {
   "cell_type": "code",
   "execution_count": null,
   "id": "db4dbc54",
   "metadata": {},
   "outputs": [],
   "source": []
  }
 ],
 "metadata": {
  "kernelspec": {
   "display_name": "Python 3",
   "language": "python",
   "name": "python3"
  },
  "language_info": {
   "codemirror_mode": {
    "name": "ipython",
    "version": 3
   },
   "file_extension": ".py",
   "mimetype": "text/x-python",
   "name": "python",
   "nbconvert_exporter": "python",
   "pygments_lexer": "ipython3",
   "version": "3.10.10"
  }
 },
 "nbformat": 4,
 "nbformat_minor": 5
}
